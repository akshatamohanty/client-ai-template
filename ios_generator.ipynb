{
 "cells": [
  {
   "cell_type": "markdown",
   "metadata": {},
   "source": [
    "## IOS Core ML (work-in-progress)"
   ]
  },
  {
   "cell_type": "code",
   "execution_count": null,
   "metadata": {
    "collapsed": true
   },
   "outputs": [],
   "source": [
    "import coremltools\n",
    "\n",
    "def saveCoreMLModel(model):\n",
    "    coreml_model = coremltools.converters.keras.convert(model,\n",
    "    input_names=['input'], output_names=['probs'],\n",
    "        image_input_names='input',\n",
    "        predicted_feature_name='dogBreed',\n",
    "        class_labels='') ## fix\n",
    "    coreml_model.save('resnet50custom.mlmodel')\n",
    "    print('coreml saved')"
   ]
  }
 ],
 "metadata": {
  "kernelspec": {
   "display_name": "Python 3",
   "language": "python",
   "name": "python3"
  },
  "language_info": {
   "codemirror_mode": {
    "name": "ipython",
    "version": 3
   },
   "file_extension": ".py",
   "mimetype": "text/x-python",
   "name": "python",
   "nbconvert_exporter": "python",
   "pygments_lexer": "ipython3",
   "version": "3.6.1"
  }
 },
 "nbformat": 4,
 "nbformat_minor": 2
}
