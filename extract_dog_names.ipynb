{
 "cells": [
  {
   "cell_type": "markdown",
   "metadata": {},
   "source": [
    "# `dog_names` labelling files"
   ]
  },
  {
   "cell_type": "markdown",
   "metadata": {},
   "source": [
    "## Extracting `dog_names` as an array"
   ]
  },
  {
   "cell_type": "code",
   "execution_count": 13,
   "metadata": {},
   "outputs": [
    {
     "name": "stdout",
     "output_type": "stream",
     "text": [
      "['Affenpinsche', 'Afghan_houn', 'Airedale_terrie', 'Akit', 'Alaskan_malamut', 'American_eskimo_do', 'American_foxhoun', 'American_staffordshire_terrie', 'American_water_spanie', 'Anatolian_shepherd_do', 'Australian_cattle_do', 'Australian_shepher', 'Australian_terrie', 'Basenj', 'Basset_houn', 'Beagl', 'Bearded_colli', 'Beaucero', 'Bedlington_terrie', 'Belgian_malinoi', 'Belgian_sheepdo', 'Belgian_tervure', 'Bernese_mountain_do', 'Bichon_fris', 'Black_and_tan_coonhoun', 'Black_russian_terrie', 'Bloodhoun', 'Bluetick_coonhoun', 'Border_colli', 'Border_terrie', 'Borzo', 'Boston_terrie', 'Bouvier_des_flandre', 'Boxe', 'Boykin_spanie', 'Briar', 'Brittan', 'Brussels_griffo', 'Bull_terrie', 'Bulldo', 'Bullmastif', 'Cairn_terrie', 'Canaan_do', 'Cane_cors', 'Cardigan_welsh_corg', 'Cavalier_king_charles_spanie', 'Chesapeake_bay_retrieve', 'Chihuahu', 'Chinese_creste', 'Chinese_shar-pe', 'Chow_cho', 'Clumber_spanie', 'Cocker_spanie', 'Colli', 'Curly-coated_retrieve', 'Dachshun', 'Dalmatia', 'Dandie_dinmont_terrie', 'Doberman_pinsche', 'Dogue_de_bordeau', 'English_cocker_spanie', 'English_sette', 'English_springer_spanie', 'English_toy_spanie', 'Entlebucher_mountain_do', 'Field_spanie', 'Finnish_spit', 'Flat-coated_retrieve', 'French_bulldo', 'German_pinsche', 'German_shepherd_do', 'German_shorthaired_pointe', 'German_wirehaired_pointe', 'Giant_schnauze', 'Glen_of_imaal_terrie', 'Golden_retrieve', 'Gordon_sette', 'Great_dan', 'Great_pyrenee', 'Greater_swiss_mountain_do', 'Greyhoun', 'Havanes', 'Ibizan_houn', 'Icelandic_sheepdo', 'Irish_red_and_white_sette', 'Irish_sette', 'Irish_terrie', 'Irish_water_spanie', 'Irish_wolfhoun', 'Italian_greyhoun', 'Japanese_chi', 'Keeshon', 'Kerry_blue_terrie', 'Komondo', 'Kuvas', 'Labrador_retrieve', 'Lakeland_terrie', 'Leonberge', 'Lhasa_aps', 'Lowche', 'Maltes', 'Manchester_terrie', 'Mastif', 'Miniature_schnauze', 'Neapolitan_mastif', 'Newfoundlan', 'Norfolk_terrie', 'Norwegian_buhun', 'Norwegian_elkhoun', 'Norwegian_lundehun', 'Norwich_terrie', 'Nova_scotia_duck_tolling_retrieve', 'Old_english_sheepdo', 'Otterhoun', 'Papillo', 'Parson_russell_terrie', 'Pekinges', 'Pembroke_welsh_corg', 'Petit_basset_griffon_vendee', 'Pharaoh_houn', 'Plot', 'Pointe', 'Pomerania', 'Poodl', 'Portuguese_water_do', 'Saint_bernar', 'Silky_terrie', 'Smooth_fox_terrie', 'Tibetan_mastif', 'Welsh_springer_spanie', 'Wirehaired_pointing_griffo', 'Xoloitzcuintl', 'Yorkshire_terrie']\n"
     ]
    }
   ],
   "source": [
    "from glob import glob\n",
    "\n",
    "prefix_length = len('dogImages/') + 4 ## to remove the serial number\n",
    "dog_names = [item[prefix_length:-1] for item in sorted(glob(\"dogImages/*\"))]\n",
    "print(dog_names)"
   ]
  },
  {
   "cell_type": "markdown",
   "metadata": {},
   "source": [
    "## as .npy"
   ]
  },
  {
   "cell_type": "code",
   "execution_count": 17,
   "metadata": {},
   "outputs": [],
   "source": [
    "import numpy\n",
    "\n",
    "numpy.save('./labels/dog_names.npy', dog_names)"
   ]
  },
  {
   "cell_type": "markdown",
   "metadata": {},
   "source": [
    "## as .json"
   ]
  },
  {
   "cell_type": "code",
   "execution_count": 18,
   "metadata": {},
   "outputs": [],
   "source": [
    "dog_names = list(dog_names)\n",
    "\n",
    "import json\n",
    "with open('./labels/dog_names.json', 'w') as outfile:\n",
    "    json.dump(dog_names, outfile)"
   ]
  },
  {
   "cell_type": "markdown",
   "metadata": {},
   "source": [
    "## as .txt"
   ]
  },
  {
   "cell_type": "code",
   "execution_count": 24,
   "metadata": {},
   "outputs": [],
   "source": [
    "with open('./labels/dog_names.txt', 'w') as f:  \n",
    "    f.writelines(\"%s\\n\" % dog for dog in dog_names)"
   ]
  }
 ],
 "metadata": {
  "kernelspec": {
   "display_name": "Python 3",
   "language": "python",
   "name": "python3"
  },
  "language_info": {
   "codemirror_mode": {
    "name": "ipython",
    "version": 3
   },
   "file_extension": ".py",
   "mimetype": "text/x-python",
   "name": "python",
   "nbconvert_exporter": "python",
   "pygments_lexer": "ipython3",
   "version": "3.7.1"
  }
 },
 "nbformat": 4,
 "nbformat_minor": 2
}
