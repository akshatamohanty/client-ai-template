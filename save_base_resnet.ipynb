{
 "cells": [
  {
   "cell_type": "markdown",
   "metadata": {},
   "source": [
    "The function saves the base resnet model required\n",
    "(keras 2.0.2)"
   ]
  },
  {
   "cell_type": "code",
   "execution_count": null,
   "metadata": {},
   "outputs": [],
   "source": [
    "## No need to run this cell\n",
    "from keras.applications.resnet50 import ResNet50, preprocess_input\n",
    "base_resnet_model = ResNet50(weights='imagenet', include_top=False)\n",
    "base_resnet_model.save('./keras_models/base_resnet.hdf5')\n",
    "## save the resnet model (for use in tensorflow-js; not required otherwise)"
   ]
  }
 ],
 "metadata": {
  "kernelspec": {
   "display_name": "Python 3",
   "language": "python",
   "name": "python3"
  },
  "language_info": {
   "codemirror_mode": {
    "name": "ipython",
    "version": 3
   },
   "file_extension": ".py",
   "mimetype": "text/x-python",
   "name": "python",
   "nbconvert_exporter": "python",
   "pygments_lexer": "ipython3",
   "version": "3.7.1"
  }
 },
 "nbformat": 4,
 "nbformat_minor": 2
}
