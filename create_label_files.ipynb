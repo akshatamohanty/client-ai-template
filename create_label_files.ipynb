{
 "cells": [
  {
   "cell_type": "markdown",
   "metadata": {},
   "source": [
    "# `dog_names` labelling files"
   ]
  },
  {
   "cell_type": "markdown",
   "metadata": {},
   "source": [
    "## Extracting `dog_names` as an array"
   ]
  },
  {
   "cell_type": "code",
   "execution_count": 57,
   "metadata": {},
   "outputs": [
    {
     "name": "stdout",
     "output_type": "stream",
     "text": [
      "['Affenpinsche', 'Afghan_houn', 'Airedale_terrie', 'Akit', 'Alaskan_malamut', 'American_eskimo_do', 'American_foxhoun', 'American_staffordshire_terrie', 'American_water_spanie', 'Anatolian_shepherd_do', 'Australian_cattle_do', 'Australian_shepher', 'Australian_terrie', 'Basenj', 'Basset_houn', 'Beagl', 'Bearded_colli', 'Beaucero', 'Bedlington_terrie', 'Belgian_malinoi', 'Belgian_sheepdo', 'Belgian_tervure', 'Bernese_mountain_do', 'Bichon_fris', 'Black_and_tan_coonhoun', 'Black_russian_terrie', 'Bloodhoun', 'Bluetick_coonhoun', 'Border_colli', 'Border_terrie', 'Borzo', 'Boston_terrie', 'Bouvier_des_flandre', 'Boxe', 'Boykin_spanie', 'Briar', 'Brittan', 'Brussels_griffo', 'Bull_terrie', 'Bulldo', 'Bullmastif', 'Cairn_terrie', 'Canaan_do', 'Cane_cors', 'Cardigan_welsh_corg', 'Cavalier_king_charles_spanie', 'Chesapeake_bay_retrieve', 'Chihuahu', 'Chinese_creste', 'Chinese_shar-pe', 'Chow_cho', 'Clumber_spanie', 'Cocker_spanie', 'Colli', 'Curly-coated_retrieve', 'Dachshun', 'Dalmatia', 'Dandie_dinmont_terrie', 'Doberman_pinsche', 'Dogue_de_bordeau', 'English_cocker_spanie', 'English_sette', 'English_springer_spanie', 'English_toy_spanie', 'Entlebucher_mountain_do', 'Field_spanie', 'Finnish_spit', 'Flat-coated_retrieve', 'French_bulldo', 'German_pinsche', 'German_shepherd_do', 'German_shorthaired_pointe', 'German_wirehaired_pointe', 'Giant_schnauze', 'Glen_of_imaal_terrie', 'Golden_retrieve', 'Gordon_sette', 'Great_dan', 'Great_pyrenee', 'Greater_swiss_mountain_do', 'Greyhoun', 'Havanes', 'Ibizan_houn', 'Icelandic_sheepdo', 'Irish_red_and_white_sette', 'Irish_sette', 'Irish_terrie', 'Irish_water_spanie', 'Irish_wolfhoun', 'Italian_greyhoun', 'Japanese_chi', 'Keeshon', 'Kerry_blue_terrie', 'Komondo', 'Kuvas', 'Labrador_retrieve', 'Lakeland_terrie', 'Leonberge', 'Lhasa_aps', 'Lowche', 'Maltes', 'Manchester_terrie', 'Mastif', 'Miniature_schnauze', 'Neapolitan_mastif', 'Newfoundlan', 'Norfolk_terrie', 'Norwegian_buhun', 'Norwegian_elkhoun', 'Norwegian_lundehun', 'Norwich_terrie', 'Nova_scotia_duck_tolling_retrieve', 'Old_english_sheepdo', 'Otterhoun', 'Papillo', 'Parson_russell_terrie', 'Pekinges', 'Pembroke_welsh_corg', 'Petit_basset_griffon_vendee', 'Pharaoh_houn', 'Plot', 'Pointe', 'Pomerania', 'Poodl', 'Portuguese_water_do', 'Saint_bernar', 'Silky_terrie', 'Smooth_fox_terrie', 'Tibetan_mastif', 'Welsh_springer_spanie', 'Wirehaired_pointing_griffo', 'Xoloitzcuintl', 'Yorkshire_terrie']\n",
      "133\n"
     ]
    }
   ],
   "source": [
    "from glob import glob\n",
    "\n",
    "prefix_length = len('dogImages/') ## to remove the serial number\n",
    "dog_names = [item[prefix_length:-1] for item in sorted(glob(\"dogImages/*\"))]\n",
    "print(dog_names)\n",
    "print(len(dog_names))"
   ]
  },
  {
   "cell_type": "markdown",
   "metadata": {},
   "source": [
    "## as .npy"
   ]
  },
  {
   "cell_type": "code",
   "execution_count": 58,
   "metadata": {},
   "outputs": [],
   "source": [
    "import numpy\n",
    "\n",
    "numpy.save('./labels/dog_names.npy', dog_names)"
   ]
  },
  {
   "cell_type": "markdown",
   "metadata": {},
   "source": [
    "## as .json"
   ]
  },
  {
   "cell_type": "code",
   "execution_count": 59,
   "metadata": {},
   "outputs": [],
   "source": [
    "dog_names = list(dog_names)\n",
    "\n",
    "import json\n",
    "with open('./labels/dog_names.json', 'w') as outfile:\n",
    "    json.dump(dog_names, outfile)"
   ]
  },
  {
   "cell_type": "markdown",
   "metadata": {},
   "source": [
    "## as .txt"
   ]
  },
  {
   "cell_type": "code",
   "execution_count": 60,
   "metadata": {},
   "outputs": [],
   "source": [
    "with open('./labels/dog_names.txt', 'w') as f:  \n",
    "    f.writelines(\"%s\\n\" % dog for dog in dog_names)"
   ]
  },
  {
   "cell_type": "markdown",
   "metadata": {},
   "source": [
    "### Script used to generate a single folder of dogImages from the training set of various dogs\n",
    "\n",
    "The `dogImages` directory can be any of the training/test/valid directory found [here](https://s3-us-west-1.amazonaws.com/udacity-aind/dog-project/dogImages.zip) "
   ]
  },
  {
   "cell_type": "code",
   "execution_count": 54,
   "metadata": {},
   "outputs": [],
   "source": [
    "dogFolders = sorted(glob(\"dogImagesTrain/*\"))"
   ]
  },
  {
   "cell_type": "code",
   "execution_count": 55,
   "metadata": {},
   "outputs": [
    {
     "name": "stdout",
     "output_type": "stream",
     "text": [
      "Affenpinscher\n",
      "Afghan_hound\n",
      "Airedale_terrier\n",
      "Akita\n",
      "Alaskan_malamute\n",
      "American_eskimo_dog\n",
      "American_foxhound\n",
      "American_staffordshire_terrier\n",
      "American_water_spaniel\n",
      "Anatolian_shepherd_dog\n",
      "Australian_cattle_dog\n",
      "Australian_shepherd\n",
      "Australian_terrier\n",
      "Basenji\n",
      "Basset_hound\n",
      "Beagle\n",
      "Bearded_collie\n",
      "Beauceron\n",
      "Bedlington_terrier\n",
      "Belgian_malinois\n",
      "Belgian_sheepdog\n",
      "Belgian_tervuren\n",
      "Bernese_mountain_dog\n",
      "Bichon_frise\n",
      "Black_and_tan_coonhound\n",
      "Black_russian_terrier\n",
      "Bloodhound\n",
      "Bluetick_coonhound\n",
      "Border_collie\n",
      "Border_terrier\n",
      "Borzoi\n",
      "Boston_terrier\n",
      "Bouvier_des_flandres\n",
      "Boxer\n",
      "Boykin_spaniel\n",
      "Briard\n",
      "Brittany\n",
      "Brussels_griffon\n",
      "Bull_terrier\n",
      "Bulldog\n",
      "Bullmastiff\n",
      "Cairn_terrier\n",
      "Canaan_dog\n",
      "Cane_corso\n",
      "Cardigan_welsh_corgi\n",
      "Cavalier_king_charles_spaniel\n",
      "Chesapeake_bay_retriever\n",
      "Chihuahua\n",
      "Chinese_crested\n",
      "Chinese_shar-pei\n",
      "Chow_chow\n",
      "Clumber_spaniel\n",
      "Cocker_spaniel\n",
      "Collie\n",
      "Curly-coated_retriever\n",
      "Dachshund\n",
      "Dalmatian\n",
      "Dandie_dinmont_terrier\n",
      "Doberman_pinscher\n",
      "Dogue_de_bordeaux\n",
      "English_cocker_spaniel\n",
      "English_setter\n",
      "English_springer_spaniel\n",
      "English_toy_spaniel\n",
      "Entlebucher_mountain_dog\n",
      "Field_spaniel\n",
      "Finnish_spitz\n",
      "Flat-coated_retriever\n",
      "French_bulldog\n",
      "German_pinscher\n",
      "German_shepherd_dog\n",
      "German_shorthaired_pointer\n",
      "German_wirehaired_pointer\n",
      "Giant_schnauzer\n",
      "Glen_of_imaal_terrier\n",
      "Golden_retriever\n",
      "Gordon_setter\n",
      "Great_dane\n",
      "Great_pyrenees\n",
      "Greater_swiss_mountain_dog\n",
      "Greyhound\n",
      "Havanese\n",
      "Ibizan_hound\n",
      "Icelandic_sheepdog\n",
      "Irish_red_and_white_setter\n",
      "Irish_setter\n",
      "Irish_terrier\n",
      "Irish_water_spaniel\n",
      "Irish_wolfhound\n",
      "Italian_greyhound\n",
      "Japanese_chin\n",
      "Keeshond\n",
      "Kerry_blue_terrier\n",
      "Komondor\n",
      "Kuvasz\n",
      "Labrador_retriever\n",
      "Lakeland_terrier\n",
      "Leonberger\n",
      "Lhasa_apso\n",
      "Lowchen\n",
      "Maltese\n",
      "Manchester_terrier\n",
      "Mastiff\n",
      "Miniature_schnauzer\n",
      "Neapolitan_mastiff\n",
      "Newfoundland\n",
      "Norfolk_terrier\n",
      "Norwegian_buhund\n",
      "Norwegian_elkhound\n",
      "Norwegian_lundehund\n",
      "Norwich_terrier\n",
      "Nova_scotia_duck_tolling_retriever\n",
      "Old_english_sheepdog\n",
      "Otterhound\n",
      "Papillon\n",
      "Parson_russell_terrier\n",
      "Pekingese\n",
      "Pembroke_welsh_corgi\n",
      "Petit_basset_griffon_vendeen\n",
      "Pharaoh_hound\n",
      "Plott\n",
      "Pointer\n",
      "Pomeranian\n",
      "Poodle\n",
      "Portuguese_water_dog\n",
      "Saint_bernard\n",
      "Silky_terrier\n",
      "Smooth_fox_terrier\n",
      "Tibetan_mastiff\n",
      "Welsh_springer_spaniel\n",
      "Wirehaired_pointing_griffon\n",
      "Xoloitzcuintli\n",
      "Yorkshire_terrier\n"
     ]
    }
   ],
   "source": [
    "from os import listdir\n",
    "from os.path import isfile, join\n",
    "from shutil import copyfile\n",
    "\n",
    "prefix_length = len('dogImagesTrain/') + 4 ## to remove the serial number\n",
    "for folderPath in dogFolders:\n",
    "    folderName = folderPath[prefix_length:]\n",
    "    first_file = [f for f in listdir(folderPath) if isfile(join(folderPath, f))][0]\n",
    "    copyfile(folderPath + '/' + first_file, './dogImages/' + folderName)\n",
    "    print(folderName)"
   ]
  },
  {
   "cell_type": "code",
   "execution_count": null,
   "metadata": {},
   "outputs": [],
   "source": []
  }
 ],
 "metadata": {
  "kernelspec": {
   "display_name": "Python 3",
   "language": "python",
   "name": "python3"
  },
  "language_info": {
   "codemirror_mode": {
    "name": "ipython",
    "version": 3
   },
   "file_extension": ".py",
   "mimetype": "text/x-python",
   "name": "python",
   "nbconvert_exporter": "python",
   "pygments_lexer": "ipython3",
   "version": "3.7.1"
  }
 },
 "nbformat": 4,
 "nbformat_minor": 2
}
