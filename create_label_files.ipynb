{
 "cells": [
  {
   "cell_type": "markdown",
   "metadata": {},
   "source": [
    "# `dog_names` labelling files"
   ]
  },
  {
   "cell_type": "markdown",
   "metadata": {},
   "source": [
    "## Extracting `dog_names` as an array"
   ]
  },
  {
   "cell_type": "code",
   "execution_count": 5,
   "metadata": {},
   "outputs": [
    {
     "name": "stdout",
     "output_type": "stream",
     "text": [
      "['Affenpinscher', 'Afghan_hound', 'Airedale_terrier', 'Akita', 'Alaskan_malamute', 'American_eskimo_dog', 'American_foxhound', 'American_staffordshire_terrier', 'American_water_spaniel', 'Anatolian_shepherd_dog', 'Australian_cattle_dog', 'Australian_shepherd', 'Australian_terrier', 'Basenji', 'Basset_hound', 'Beagle', 'Bearded_collie', 'Beauceron', 'Bedlington_terrier', 'Belgian_malinois', 'Belgian_sheepdog', 'Belgian_tervuren', 'Bernese_mountain_dog', 'Bichon_frise', 'Black_and_tan_coonhound', 'Black_russian_terrier', 'Bloodhound', 'Bluetick_coonhound', 'Border_collie', 'Border_terrier', 'Borzoi', 'Boston_terrier', 'Bouvier_des_flandres', 'Boxer', 'Boykin_spaniel', 'Briard', 'Brittany', 'Brussels_griffon', 'Bull_terrier', 'Bulldog', 'Bullmastiff', 'Cairn_terrier', 'Canaan_dog', 'Cane_corso', 'Cardigan_welsh_corgi', 'Cavalier_king_charles_spaniel', 'Chesapeake_bay_retriever', 'Chihuahua', 'Chinese_crested', 'Chinese_shar-pei', 'Chow_chow', 'Clumber_spaniel', 'Cocker_spaniel', 'Collie', 'Curly-coated_retriever', 'Dachshund', 'Dalmatian', 'Dandie_dinmont_terrier', 'Doberman_pinscher', 'Dogue_de_bordeaux', 'English_cocker_spaniel', 'English_setter', 'English_springer_spaniel', 'English_toy_spaniel', 'Entlebucher_mountain_dog', 'Field_spaniel', 'Finnish_spitz', 'Flat-coated_retriever', 'French_bulldog', 'German_pinscher', 'German_shepherd_dog', 'German_shorthaired_pointer', 'German_wirehaired_pointer', 'Giant_schnauzer', 'Glen_of_imaal_terrier', 'Golden_retriever', 'Gordon_setter', 'Great_dane', 'Great_pyrenees', 'Greater_swiss_mountain_dog', 'Greyhound', 'Havanese', 'Ibizan_hound', 'Icelandic_sheepdog', 'Irish_red_and_white_setter', 'Irish_setter', 'Irish_terrier', 'Irish_water_spaniel', 'Irish_wolfhound', 'Italian_greyhound', 'Japanese_chin', 'Keeshond', 'Kerry_blue_terrier', 'Komondor', 'Kuvasz', 'Labrador_retriever', 'Lakeland_terrier', 'Leonberger', 'Lhasa_apso', 'Lowchen', 'Maltese', 'Manchester_terrier', 'Mastiff', 'Miniature_schnauzer', 'Neapolitan_mastiff', 'Newfoundland', 'Norfolk_terrier', 'Norwegian_buhund', 'Norwegian_elkhound', 'Norwegian_lundehund', 'Norwich_terrier', 'Nova_scotia_duck_tolling_retriever', 'Old_english_sheepdog', 'Otterhound', 'Papillon', 'Parson_russell_terrier', 'Pekingese', 'Pembroke_welsh_corgi', 'Petit_basset_griffon_vendeen', 'Pharaoh_hound', 'Plott', 'Pointer', 'Pomeranian', 'Poodle', 'Portuguese_water_dog', 'Saint_bernard', 'Silky_terrier', 'Smooth_fox_terrier', 'Tibetan_mastiff', 'Welsh_springer_spaniel', 'Wirehaired_pointing_griffon', 'Xoloitzcuintli', 'Yorkshire_terrier']\n",
      "133\n"
     ]
    }
   ],
   "source": [
    "from glob import glob\n",
    "\n",
    "prefix_length = len('dogImages/') ## to remove the serial number\n",
    "dog_names = [item[prefix_length:] for item in sorted(glob(\"dogImages/*\"))]\n",
    "print(dog_names)\n",
    "print(len(dog_names))"
   ]
  },
  {
   "cell_type": "markdown",
   "metadata": {},
   "source": [
    "## as .npy"
   ]
  },
  {
   "cell_type": "code",
   "execution_count": 6,
   "metadata": {},
   "outputs": [],
   "source": [
    "import numpy\n",
    "\n",
    "numpy.save('./labels/dog_names.npy', dog_names)"
   ]
  },
  {
   "cell_type": "markdown",
   "metadata": {},
   "source": [
    "## as .json"
   ]
  },
  {
   "cell_type": "code",
   "execution_count": 7,
   "metadata": {},
   "outputs": [],
   "source": [
    "dog_names = list(dog_names)\n",
    "\n",
    "import json\n",
    "with open('./labels/dog_names.json', 'w') as outfile:\n",
    "    json.dump(dog_names, outfile)"
   ]
  },
  {
   "cell_type": "markdown",
   "metadata": {},
   "source": [
    "## as .txt"
   ]
  },
  {
   "cell_type": "code",
   "execution_count": 8,
   "metadata": {},
   "outputs": [],
   "source": [
    "with open('./labels/dog_names.txt', 'w') as f:  \n",
    "    f.writelines(\"%s\\n\" % dog for dog in dog_names)"
   ]
  },
  {
   "cell_type": "markdown",
   "metadata": {},
   "source": [
    "### Script used to generate a single folder of dogImages from the training set of various dogs\n",
    "\n",
    "The `dogImages` directory can be any of the training/test/valid directory found [here](https://s3-us-west-1.amazonaws.com/udacity-aind/dog-project/dogImages.zip) "
   ]
  },
  {
   "cell_type": "code",
   "execution_count": 54,
   "metadata": {},
   "outputs": [],
   "source": [
    "dogFolders = sorted(glob(\"dogImagesTrain/*\"))"
   ]
  },
  {
   "cell_type": "code",
   "execution_count": 55,
   "metadata": {},
   "outputs": [
    {
     "name": "stdout",
     "output_type": "stream",
     "text": [
      "Affenpinscher\n",
      "Afghan_hound\n",
      "Airedale_terrier\n",
      "Akita\n",
      "Alaskan_malamute\n",
      "American_eskimo_dog\n",
      "American_foxhound\n",
      "American_staffordshire_terrier\n",
      "American_water_spaniel\n",
      "Anatolian_shepherd_dog\n",
      "Australian_cattle_dog\n",
      "Australian_shepherd\n",
      "Australian_terrier\n",
      "Basenji\n",
      "Basset_hound\n",
      "Beagle\n",
      "Bearded_collie\n",
      "Beauceron\n",
      "Bedlington_terrier\n",
      "Belgian_malinois\n",
      "Belgian_sheepdog\n",
      "Belgian_tervuren\n",
      "Bernese_mountain_dog\n",
      "Bichon_frise\n",
      "Black_and_tan_coonhound\n",
      "Black_russian_terrier\n",
      "Bloodhound\n",
      "Bluetick_coonhound\n",
      "Border_collie\n",
      "Border_terrier\n",
      "Borzoi\n",
      "Boston_terrier\n",
      "Bouvier_des_flandres\n",
      "Boxer\n",
      "Boykin_spaniel\n",
      "Briard\n",
      "Brittany\n",
      "Brussels_griffon\n",
      "Bull_terrier\n",
      "Bulldog\n",
      "Bullmastiff\n",
      "Cairn_terrier\n",
      "Canaan_dog\n",
      "Cane_corso\n",
      "Cardigan_welsh_corgi\n",
      "Cavalier_king_charles_spaniel\n",
      "Chesapeake_bay_retriever\n",
      "Chihuahua\n",
      "Chinese_crested\n",
      "Chinese_shar-pei\n",
      "Chow_chow\n",
      "Clumber_spaniel\n",
      "Cocker_spaniel\n",
      "Collie\n",
      "Curly-coated_retriever\n",
      "Dachshund\n",
      "Dalmatian\n",
      "Dandie_dinmont_terrier\n",
      "Doberman_pinscher\n",
      "Dogue_de_bordeaux\n",
      "English_cocker_spaniel\n",
      "English_setter\n",
      "English_springer_spaniel\n",
      "English_toy_spaniel\n",
      "Entlebucher_mountain_dog\n",
      "Field_spaniel\n",
      "Finnish_spitz\n",
      "Flat-coated_retriever\n",
      "French_bulldog\n",
      "German_pinscher\n",
      "German_shepherd_dog\n",
      "German_shorthaired_pointer\n",
      "German_wirehaired_pointer\n",
      "Giant_schnauzer\n",
      "Glen_of_imaal_terrier\n",
      "Golden_retriever\n",
      "Gordon_setter\n",
      "Great_dane\n",
      "Great_pyrenees\n",
      "Greater_swiss_mountain_dog\n",
      "Greyhound\n",
      "Havanese\n",
      "Ibizan_hound\n",
      "Icelandic_sheepdog\n",
      "Irish_red_and_white_setter\n",
      "Irish_setter\n",
      "Irish_terrier\n",
      "Irish_water_spaniel\n",
      "Irish_wolfhound\n",
      "Italian_greyhound\n",
      "Japanese_chin\n",
      "Keeshond\n",
      "Kerry_blue_terrier\n",
      "Komondor\n",
      "Kuvasz\n",
      "Labrador_retriever\n",
      "Lakeland_terrier\n",
      "Leonberger\n",
      "Lhasa_apso\n",
      "Lowchen\n",
      "Maltese\n",
      "Manchester_terrier\n",
      "Mastiff\n",
      "Miniature_schnauzer\n",
      "Neapolitan_mastiff\n",
      "Newfoundland\n",
      "Norfolk_terrier\n",
      "Norwegian_buhund\n",
      "Norwegian_elkhound\n",
      "Norwegian_lundehund\n",
      "Norwich_terrier\n",
      "Nova_scotia_duck_tolling_retriever\n",
      "Old_english_sheepdog\n",
      "Otterhound\n",
      "Papillon\n",
      "Parson_russell_terrier\n",
      "Pekingese\n",
      "Pembroke_welsh_corgi\n",
      "Petit_basset_griffon_vendeen\n",
      "Pharaoh_hound\n",
      "Plott\n",
      "Pointer\n",
      "Pomeranian\n",
      "Poodle\n",
      "Portuguese_water_dog\n",
      "Saint_bernard\n",
      "Silky_terrier\n",
      "Smooth_fox_terrier\n",
      "Tibetan_mastiff\n",
      "Welsh_springer_spaniel\n",
      "Wirehaired_pointing_griffon\n",
      "Xoloitzcuintli\n",
      "Yorkshire_terrier\n"
     ]
    }
   ],
   "source": [
    "from os import listdir\n",
    "from os.path import isfile, join\n",
    "from shutil import copyfile\n",
    "\n",
    "prefix_length = len('dogImagesTrain/') + 4 ## to remove the serial number\n",
    "for folderPath in dogFolders:\n",
    "    folderName = folderPath[prefix_length:]\n",
    "    first_file = [f for f in listdir(folderPath) if isfile(join(folderPath, f))][0]\n",
    "    copyfile(folderPath + '/' + first_file, './dogImages/' + folderName)\n",
    "    print(folderName)"
   ]
  },
  {
   "cell_type": "code",
   "execution_count": null,
   "metadata": {},
   "outputs": [],
   "source": []
  }
 ],
 "metadata": {
  "kernelspec": {
   "display_name": "Python 3",
   "language": "python",
   "name": "python3"
  },
  "language_info": {
   "codemirror_mode": {
    "name": "ipython",
    "version": 3
   },
   "file_extension": ".py",
   "mimetype": "text/x-python",
   "name": "python",
   "nbconvert_exporter": "python",
   "pygments_lexer": "ipython3",
   "version": "3.7.1"
  }
 },
 "nbformat": 4,
 "nbformat_minor": 2
}
